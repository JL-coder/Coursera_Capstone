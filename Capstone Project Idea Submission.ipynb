{
 "cells": [
  {
   "cell_type": "markdown",
   "metadata": {},
   "source": [
    "### Background:\n",
    "\n",
    "### Over the last decade cities have been experiancing a boom as industry giants and start ups in the tech industry move into new locations and with them bring a wave of young tech workers. This change has brought tension with city locals as rent in those areas sky rocket, sometimes even forcing locals to move. It also excludes workers from other industries from moving and participating in the cities functions. Affordable housing affects everyone and can still be a problem even if you are in the tech industry. For the purposes of this notebook I am going to assume the role of a young tech worker just starting out who wants to move to one of the cities experiencing a industry boom. Despite my foucs on tech this notebook can be used by people in other industrys. The contents of this notebook can be used by a variety of different stakeholders who may be looking to compare rent prices in different cities as well as the local ammenities in the area.  For the purpose of this assignment I want to know which city has the most affordable housing, lowest crime, and best city ammenities."
   ]
  },
  {
   "cell_type": "markdown",
   "metadata": {},
   "source": [
    "### Description and Use of Data:\n",
    "\n",
    "### Current and historical rent data was obtained from the website Apartment List (https://www.apartmentlist.com/rentonomics/rental-price-data/). I will be using the most recent data (from March 2020) to determine which city has the cheapest rent and then use historical data as part of my analysis of rent in the cities. I used a 2019 analysis by Indeed which sought to find which tech hub cities had the most job posting and as such the most overall growth in the sector to determine which cities to base my apartment search on (https://www.hiringlab.org/2019/04/18/tech-hubs-2019/). In an effort to cut down on analysis and have variety I will only work with the top 5 cities that are not in the same state. As such San Jose (number 1) had more job postings than San Francisco (number 4) so I will be using that city in my analysis. When I am comparing the cities amenities I will only compare the top 2 cities based on price to cut down on analysis.  \n",
    "### List of Citys based on Indeed Tech Job Postings: \n",
    "#### 1. San Jose, CA \n",
    "#### 2. Washington, D.C. \n",
    "#### 3. Seattle, WA \n",
    "#### 4. Baltimore, MD \n",
    "#### 5. Raleigh, NC \n",
    "\n",
    "### Crime statistics for the two remaining cities will be collected from their respective police departments and analyzed for location of crime and types of crimes committed to give a general idea of what neighboorhoods in the city are preferable as well as what you can expect while living there. \n",
    "\n",
    "### Foursquare location data will be used to compare amenities in the city which would lead to better overall knowledge of the area in each city and not just leave decesion making up solely up to rent prices and crime. "
   ]
  },
  {
   "cell_type": "code",
   "execution_count": null,
   "metadata": {},
   "outputs": [],
   "source": []
  }
 ],
 "metadata": {
  "kernelspec": {
   "display_name": "Python 3",
   "language": "python",
   "name": "python3"
  },
  "language_info": {
   "codemirror_mode": {
    "name": "ipython",
    "version": 3
   },
   "file_extension": ".py",
   "mimetype": "text/x-python",
   "name": "python",
   "nbconvert_exporter": "python",
   "pygments_lexer": "ipython3",
   "version": "3.7.4"
  }
 },
 "nbformat": 4,
 "nbformat_minor": 2
}
